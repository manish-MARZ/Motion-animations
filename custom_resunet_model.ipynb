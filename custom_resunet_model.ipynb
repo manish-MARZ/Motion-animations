{
  "nbformat": 4,
  "nbformat_minor": 0,
  "metadata": {
    "colab": {
      "name": "custom_resunet_model.ipynb",
      "provenance": [],
      "collapsed_sections": [
        "WZbNPBDNKhZt"
      ],
      "authorship_tag": "ABX9TyP12uzi952MV4ioh9yUvfrY",
      "include_colab_link": true
    },
    "kernelspec": {
      "name": "python3",
      "display_name": "Python 3"
    },
    "language_info": {
      "name": "python"
    }
  },
  "cells": [
    {
      "cell_type": "markdown",
      "metadata": {
        "id": "view-in-github",
        "colab_type": "text"
      },
      "source": [
        "<a href=\"https://colab.research.google.com/github/manish-MARZ/Motion-animations/blob/main/custom_resunet_model.ipynb\" target=\"_parent\"><img src=\"https://colab.research.google.com/assets/colab-badge.svg\" alt=\"Open In Colab\"/></a>"
      ]
    },
    {
      "cell_type": "code",
      "metadata": {
        "colab": {
          "base_uri": "https://localhost:8080/"
        },
        "id": "3myZTST2bkaa",
        "outputId": "348c0ee0-364f-4f1b-fe9c-3441247144b4"
      },
      "source": [
        "!pip install tensorflow_addons"
      ],
      "execution_count": null,
      "outputs": [
        {
          "output_type": "stream",
          "text": [
            "Collecting tensorflow_addons\n",
            "\u001b[?25l  Downloading https://files.pythonhosted.org/packages/66/4b/e893d194e626c24b3df2253066aa418f46a432fdb68250cde14bf9bb0700/tensorflow_addons-0.13.0-cp37-cp37m-manylinux2010_x86_64.whl (679kB)\n",
            "\u001b[K     |████████████████████████████████| 686kB 5.1MB/s \n",
            "\u001b[?25hRequirement already satisfied: typeguard>=2.7 in /usr/local/lib/python3.7/dist-packages (from tensorflow_addons) (2.7.1)\n",
            "Installing collected packages: tensorflow-addons\n",
            "Successfully installed tensorflow-addons-0.13.0\n"
          ],
          "name": "stdout"
        }
      ]
    },
    {
      "cell_type": "code",
      "metadata": {
        "id": "BLdkrFfKx9kN"
      },
      "source": [
        "## Imports\n",
        "import os\n",
        "import sys\n",
        "import random\n",
        "import numpy as np\n",
        "import tensorflow as tf\n",
        "from tensorflow import keras\n",
        "#from tensorflow.keras import initializers\n",
        "from tensorflow.keras.layers import Add, BatchNormalization, Concatenate, Conv2D, Dropout, Input, UpSampling2D, Activation\n",
        "from tensorflow.keras.models import Model, Sequential, load_model\n",
        "import tensorflow_addons as tfa\n",
        "from tensorflow.keras.optimizers import Adam\n",
        "import tensorflow.keras.backend as K\n",
        "import inspect"
      ],
      "execution_count": null,
      "outputs": []
    },
    {
      "cell_type": "markdown",
      "metadata": {
        "id": "valb_EzvPWn7"
      },
      "source": [
        "### Optimizer and Loss"
      ]
    },
    {
      "cell_type": "code",
      "metadata": {
        "id": "rYFNdiKXPV-_"
      },
      "source": [
        "def custom_loss(y_true, y_pred):\n",
        "    loss = K.abs(y_true - y_pred)\n",
        "    return loss\n",
        "\n",
        "my_optimizer = Adam(lr=0.00004, beta_1=0.99, beta_2=0.99,amsgrad=True)"
      ],
      "execution_count": null,
      "outputs": []
    },
    {
      "cell_type": "markdown",
      "metadata": {
        "id": "beIFhb35P2T1"
      },
      "source": [
        "                                   UNET\n",
        "                                    |\n",
        "\t\t\t\tEncoder\t\t\t\t\t\t  \t  Decoder                             \n",
        "\t\t   n x Encoder_block                       \tn x Decoder_block\n",
        "\t\t(Conv2D, Normalize, Activation, Skip )         (Conv2D, Normalize, Activation, Upsample, Skip)\n",
        "\t"
      ]
    },
    {
      "cell_type": "markdown",
      "metadata": {
        "id": "xDn1q_DibT7U"
      },
      "source": [
        "#Previous model\n"
      ]
    },
    {
      "cell_type": "code",
      "metadata": {
        "id": "lrpaJ3EaTzJ9"
      },
      "source": [
        ""
      ],
      "execution_count": null,
      "outputs": []
    },
    {
      "cell_type": "markdown",
      "metadata": {
        "id": "UcnzgnKh7Vht"
      },
      "source": [
        "# Custom UNET"
      ]
    },
    {
      "cell_type": "code",
      "metadata": {
        "id": "G5J0stzhX-6a"
      },
      "source": [
        "imsize = 1024"
      ],
      "execution_count": null,
      "outputs": []
    },
    {
      "cell_type": "code",
      "metadata": {
        "id": "DqaHiTxddNGY"
      },
      "source": [
        "def normalize_act(x, norm = None, act=None, name = 'norm'):\n",
        "    #Please check documentation of Instance Normalization and Group normalization\n",
        "    if(norm == 'bn'):\n",
        "        x = BatchNormalization(name = name+'_bn')(x)\n",
        "    elif(norm == 'in'):\n",
        "        x = tfa.layers.InstanceNormalization(axis=3, center=True, scale=True, beta_initializer=\"random_uniform\", gamma_initializer=\"random_uniform\", name=name+'_in')(x)\n",
        "    elif(norm == 'gn'):\n",
        "        x = tfa.layers.GroupNormalization(groups=8, axis=-1, name=name+'_gn')(x)\n",
        "\n",
        "    if act:\n",
        "        x = Activation(act)(x)\n",
        "    return x"
      ],
      "execution_count": null,
      "outputs": []
    },
    {
      "cell_type": "code",
      "metadata": {
        "id": "LiLYMZZzXnWL"
      },
      "source": [
        "def encoder_input(x, filters, n_conv = 4, kernel_size=(3, 3), norm = None, act = 'relu', dropout = None, name = None):\n",
        "    if name is None:\n",
        "        name = inspect.stack()[1][3] #Get name of callng function\n",
        "    #Convert parameters to iterators to be used in loop#FLAG - Bad design (works for now)\n",
        "    if not isinstance(filters, list):\n",
        "        filters = [filters]*n_conv\n",
        "    if not isinstance(kernel_size , list):\n",
        "        kernel_size = [kernel_size]* n_conv\n",
        "\n",
        "    #List to store conv for each iteration.\n",
        "    conv = [0]*(n_conv + 1)\n",
        "    conv[0] = x\n",
        "\n",
        "    #Loop to create convolution layers\n",
        "    for i in range(n_conv):\n",
        "        conv[i+1] = Conv2D(filters = filters[i], kernel_size = kernel_size[i], padding='same', strides=1, name = name+str(i))(conv[0])\n",
        "        #Apply normalization and/or activation\n",
        "        conv[i+1] = normalize_act(conv[i+1], norm = norm, act = act, name = name+str(i))\n",
        "    out = Concatenate(name = name+'_concat')(conv[1:])\n",
        "    return out\n",
        "\n",
        "def res_block(x, filters, kernel_size=(3,3), padding='same', downsample = True, norm = None, act = 'relu', dropout = None, name = None):\n",
        "    if name is None:\n",
        "        z = x.shape\n",
        "        str1 = \"\"\n",
        "        name = inspect.stack()[1][3]+str1.join(str(z[1:])) #Get name of callng function\n",
        "\n",
        "    '''Basic resnet building block'''\n",
        "    #print('-----Resnet layer-----')\n",
        "    #Loop to create convolution layers\n",
        "    if(dropout):\n",
        "        conv = Dropout(dropout, name+'_dropout')(x)\n",
        "    conv = Conv2D(filters = filters, kernel_size = kernel_size, padding=padding, strides=(1 if not downsample else 2), name = name+'_conv1')(x) ##ERROR HERE\n",
        "    #Apply normalization and/or activation\n",
        "    conv = normalize_act(conv, norm = norm, act = act, name = name)\n",
        "    conv = Conv2D(filters = filters, kernel_size = kernel_size, padding='same', name = name+'_conv2')(conv)\n",
        "\n",
        "    #Skip connect in res_block \n",
        "    res_skip = Conv2D(filters = filters, kernel_size = (3,3), padding='same', strides=(1 if not downsample else 2), name=name+'_res_conv1')(x)\n",
        "    res_skip = Add(name=name+'_res_skip')([res_skip, conv])\n",
        "    out = normalize_act(res_skip, name= name+'_res_skip')\n",
        "    #print(out.shape)\n",
        "    return out\n",
        "\n",
        "def skip_connect(x_encoder, x_decoder, filters, kernel_size=(1, 1), dilation_rate = (1,1), padding='same', strides=1, norm = 'in', act = 'relu', name = None):\n",
        "    if name is None:\n",
        "        name = inspect.stack()[1][3]+str(x_encoder)+'_'+str(x_decoder) #Get name of callng function\n",
        "    #Skip connection across encoder and decoder\n",
        "    skip = Conv2D(filters, kernel_size, padding=padding, dilation_rate=dilation_rate, name = name+'_conv')(x_encoder)\n",
        "    skip = Concatenate(name = name+'_concat')([skip, x_decoder]) #Concatenate or Add?\n",
        "    skip = normalize_act(skip, norm = norm, act = act, name=name)\n",
        "    #print(skip.shape)\n",
        "    return skip"
      ],
      "execution_count": null,
      "outputs": []
    },
    {
      "cell_type": "code",
      "metadata": {
        "id": "79n1Cqu_XtMw"
      },
      "source": [
        "#Unet Encoder\n",
        "def unet_encoder(x):\n",
        "    '''Unet Encoder block. Output size for input 1024x1024x3 given.'''\n",
        "    #x1 = encoder_input(x, filters = 16, kernel_size = [(5,5), (3,3),(5,5), (3,3)]) #(None, 1024, 1024, 64)\n",
        "    x1 = encoder_input(x, n_conv=3, filters = [16,24,24], kernel_size = [(7,7),(5,5), (3,3)], name = 'encoder_in') #(None, 1024, 1024, 64)\n",
        "    x2 = res_block(x1, filters = 64) #(None, 512, 512, 64)\n",
        "    x3 = res_block(x2, filters = 64) #(None, 256, 256, 64)\n",
        "    x4 = res_block(x3, filters = 128)#(None, 128, 128, 128)\n",
        "    x5 = res_block(x4, filters = 128)#(None, 64, 64, 128)\n",
        "    x6 = res_block(x5, filters = 256)#(None, 32, 32, 256)\n",
        "    x7 = res_block(x6, filters = 512)#(None, 16, 16, 512)\n",
        "    out = res_block(x7, filters = 1024)#(None, 8, 8, 1024)\n",
        "    #Return encoder output and skip connections to be used in decoder\n",
        "    return (out, x1, x2, x3, x4, x5, x6, x7)\n",
        "\n",
        "#Unet Decoder\n",
        "def unet_decoder(encoder_out):\n",
        "    '''Unet Decoder block. Output size for input 1024x1024x3 given.'''\n",
        "    x, x1, x2, x3, x4, x5, x6, x7 = encoder_out\n",
        "    dropout = 0.0  \n",
        "    \n",
        "    x = res_block(x, filters = 1024, dropout = dropout, norm = 'in', downsample= False) #(None, 8, 8, 1024)\n",
        "    x = UpSampling2D()(x)#(None, 16, 16, 1024)\n",
        "    \n",
        "    x = res_block(x, filters = 512, dropout = dropout, norm = 'in', downsample= False)#(None, 16, 16, 512)\n",
        "    x = skip_connect(x7, x, filters = 512, dilation_rate=(5,5))#(None, 16, 16, 1024)\n",
        "    x = UpSampling2D()(x)#(None, 32, 32, 1024)\n",
        "    \n",
        "    x = res_block(x, filters = 256, dropout = dropout, norm = 'in', downsample= False)#(None, 32, 32, 256)\n",
        "    x = skip_connect(x6, x, filters = 256, dilation_rate=(4,4))#(None, 32, 32, 512)\n",
        "    x = UpSampling2D()(x)#(None, 64, 64, 512)\n",
        "    \n",
        "    x = res_block(x, filters = 128, dropout = dropout, norm = 'in', downsample= False)#(None, 64, 64, 128)\n",
        "    x = skip_connect(x5, x, filters = 128, dilation_rate=(3,3))#(None, 64, 64, 256)\n",
        "    x = UpSampling2D()(x)#(None, 128, 128, 256)\n",
        "    \n",
        "    x = res_block(x, filters = 64, dropout = dropout, norm = 'in', downsample= False)#(None, 128, 128, 64)\n",
        "    x = skip_connect(x4, x, filters = 64, dilation_rate=(2,2))#(None, 128, 128, 128)\n",
        "    x = UpSampling2D()(x)#(None, 256, 256, 128)\n",
        "    \n",
        "    x = res_block(x, filters = 16, dropout = dropout, norm = 'in', downsample= False)#(None, 256, 256, 16)\n",
        "    x = skip_connect(x3, x, filters = 16)#(None, 256, 256, 32)\n",
        "    x = UpSampling2D()(x)#(None, 512, 512, 32)\n",
        "\n",
        "    x = res_block(x, filters = 16, dropout = dropout, norm = 'in', downsample= False)#(None, 512, 512, 16)\n",
        "    x = skip_connect(x2, x, filters = 16)#(None, 512, 512, 32)\n",
        "    x = UpSampling2D()(x)#(None, 1024, 1024, 32)\n",
        "    \n",
        "    x = Conv2D(3, (3, 3), padding='same', activation='relu')(x)#(None, 1024, 1024, 3)\n",
        "    \n",
        "    return x"
      ],
      "execution_count": null,
      "outputs": []
    },
    {
      "cell_type": "code",
      "metadata": {
        "id": "mNWBcmusQjWz"
      },
      "source": [
        "def Unet(optim, custom_loss):\n",
        "    model = Sequential()\n",
        "    inmodel = Input((imsize, imsize, 3)) #Input with free width, height\n",
        "    #print(inmodel.shape)\n",
        "\n",
        "    #Encoder\n",
        "    encoder_out = unet_encoder(inmodel)\n",
        "\n",
        "    #Decoder\n",
        "    outmodel = unet_decoder(encoder_out)\n",
        "\n",
        "    model = keras.models.Model(inputs = inmodel, outputs = outmodel)\n",
        "    model.compile(optimizer=my_optimizer, loss=custom_loss)\n",
        "\n",
        "    return model"
      ],
      "execution_count": null,
      "outputs": []
    },
    {
      "cell_type": "code",
      "metadata": {
        "colab": {
          "base_uri": "https://localhost:8080/",
          "height": 1000
        },
        "id": "pSf6z6zNQmQp",
        "outputId": "da549a61-5e9c-4b4a-bad7-c89e0efed8ca"
      },
      "source": [
        "new_model = Unet(my_optimizer, custom_loss)\n",
        "print(new_model.summary())"
      ],
      "execution_count": null,
      "outputs": [
        {
          "output_type": "stream",
          "text": [
            "\n"
          ],
          "name": "stdout"
        },
        {
          "output_type": "error",
          "ename": "ValueError",
          "evalue": "ignored",
          "traceback": [
            "\u001b[0;31m---------------------------------------------------------------------------\u001b[0m",
            "\u001b[0;31mValueError\u001b[0m                                Traceback (most recent call last)",
            "\u001b[0;32m<ipython-input-142-71c6a6770f1f>\u001b[0m in \u001b[0;36m<module>\u001b[0;34m()\u001b[0m\n\u001b[0;32m----> 1\u001b[0;31m \u001b[0mnew_model\u001b[0m \u001b[0;34m=\u001b[0m \u001b[0mUnet\u001b[0m\u001b[0;34m(\u001b[0m\u001b[0mmy_optimizer\u001b[0m\u001b[0;34m,\u001b[0m \u001b[0mcustom_loss\u001b[0m\u001b[0;34m)\u001b[0m\u001b[0;34m\u001b[0m\u001b[0;34m\u001b[0m\u001b[0m\n\u001b[0m\u001b[1;32m      2\u001b[0m \u001b[0mprint\u001b[0m\u001b[0;34m(\u001b[0m\u001b[0mnew_model\u001b[0m\u001b[0;34m.\u001b[0m\u001b[0msummary\u001b[0m\u001b[0;34m(\u001b[0m\u001b[0;34m)\u001b[0m\u001b[0;34m)\u001b[0m\u001b[0;34m\u001b[0m\u001b[0;34m\u001b[0m\u001b[0m\n",
            "\u001b[0;32m<ipython-input-141-fd4188c71da3>\u001b[0m in \u001b[0;36mUnet\u001b[0;34m(optim, custom_loss)\u001b[0m\n\u001b[1;32m      5\u001b[0m \u001b[0;34m\u001b[0m\u001b[0m\n\u001b[1;32m      6\u001b[0m     \u001b[0;31m#Encoder\u001b[0m\u001b[0;34m\u001b[0m\u001b[0;34m\u001b[0m\u001b[0;34m\u001b[0m\u001b[0m\n\u001b[0;32m----> 7\u001b[0;31m     \u001b[0mencoder_out\u001b[0m \u001b[0;34m=\u001b[0m \u001b[0munet_encoder\u001b[0m\u001b[0;34m(\u001b[0m\u001b[0minmodel\u001b[0m\u001b[0;34m)\u001b[0m\u001b[0;34m\u001b[0m\u001b[0;34m\u001b[0m\u001b[0m\n\u001b[0m\u001b[1;32m      8\u001b[0m \u001b[0;34m\u001b[0m\u001b[0m\n\u001b[1;32m      9\u001b[0m     \u001b[0;31m#Decoder\u001b[0m\u001b[0;34m\u001b[0m\u001b[0;34m\u001b[0m\u001b[0;34m\u001b[0m\u001b[0m\n",
            "\u001b[0;32m<ipython-input-140-5738b3432842>\u001b[0m in \u001b[0;36munet_encoder\u001b[0;34m(x)\u001b[0m\n\u001b[1;32m      4\u001b[0m     \u001b[0;31m#x1 = encoder_input(x, filters = 16, kernel_size = [(5,5), (3,3),(5,5), (3,3)]) #(None, 1024, 1024, 64)\u001b[0m\u001b[0;34m\u001b[0m\u001b[0;34m\u001b[0m\u001b[0;34m\u001b[0m\u001b[0m\n\u001b[1;32m      5\u001b[0m     \u001b[0mx1\u001b[0m \u001b[0;34m=\u001b[0m \u001b[0mencoder_input\u001b[0m\u001b[0;34m(\u001b[0m\u001b[0mx\u001b[0m\u001b[0;34m,\u001b[0m \u001b[0mn_conv\u001b[0m\u001b[0;34m=\u001b[0m\u001b[0;36m3\u001b[0m\u001b[0;34m,\u001b[0m \u001b[0mfilters\u001b[0m \u001b[0;34m=\u001b[0m \u001b[0;34m[\u001b[0m\u001b[0;36m16\u001b[0m\u001b[0;34m,\u001b[0m\u001b[0;36m24\u001b[0m\u001b[0;34m,\u001b[0m\u001b[0;36m24\u001b[0m\u001b[0;34m]\u001b[0m\u001b[0;34m,\u001b[0m \u001b[0mkernel_size\u001b[0m \u001b[0;34m=\u001b[0m \u001b[0;34m[\u001b[0m\u001b[0;34m(\u001b[0m\u001b[0;36m7\u001b[0m\u001b[0;34m,\u001b[0m\u001b[0;36m7\u001b[0m\u001b[0;34m)\u001b[0m\u001b[0;34m,\u001b[0m\u001b[0;34m(\u001b[0m\u001b[0;36m5\u001b[0m\u001b[0;34m,\u001b[0m\u001b[0;36m5\u001b[0m\u001b[0;34m)\u001b[0m\u001b[0;34m,\u001b[0m \u001b[0;34m(\u001b[0m\u001b[0;36m3\u001b[0m\u001b[0;34m,\u001b[0m\u001b[0;36m3\u001b[0m\u001b[0;34m)\u001b[0m\u001b[0;34m]\u001b[0m\u001b[0;34m,\u001b[0m \u001b[0mname\u001b[0m \u001b[0;34m=\u001b[0m \u001b[0;34m'encoder_in'\u001b[0m\u001b[0;34m)\u001b[0m \u001b[0;31m#(None, 1024, 1024, 64)\u001b[0m\u001b[0;34m\u001b[0m\u001b[0;34m\u001b[0m\u001b[0m\n\u001b[0;32m----> 6\u001b[0;31m     \u001b[0mx2\u001b[0m \u001b[0;34m=\u001b[0m \u001b[0mres_block\u001b[0m\u001b[0;34m(\u001b[0m\u001b[0mx1\u001b[0m\u001b[0;34m,\u001b[0m \u001b[0mfilters\u001b[0m \u001b[0;34m=\u001b[0m \u001b[0;36m64\u001b[0m\u001b[0;34m)\u001b[0m \u001b[0;31m#(None, 512, 512, 64)\u001b[0m\u001b[0;34m\u001b[0m\u001b[0;34m\u001b[0m\u001b[0m\n\u001b[0m\u001b[1;32m      7\u001b[0m     \u001b[0mx3\u001b[0m \u001b[0;34m=\u001b[0m \u001b[0mres_block\u001b[0m\u001b[0;34m(\u001b[0m\u001b[0mx2\u001b[0m\u001b[0;34m,\u001b[0m \u001b[0mfilters\u001b[0m \u001b[0;34m=\u001b[0m \u001b[0;36m64\u001b[0m\u001b[0;34m)\u001b[0m \u001b[0;31m#(None, 256, 256, 64)\u001b[0m\u001b[0;34m\u001b[0m\u001b[0;34m\u001b[0m\u001b[0m\n\u001b[1;32m      8\u001b[0m     \u001b[0mx4\u001b[0m \u001b[0;34m=\u001b[0m \u001b[0mres_block\u001b[0m\u001b[0;34m(\u001b[0m\u001b[0mx3\u001b[0m\u001b[0;34m,\u001b[0m \u001b[0mfilters\u001b[0m \u001b[0;34m=\u001b[0m \u001b[0;36m128\u001b[0m\u001b[0;34m)\u001b[0m\u001b[0;31m#(None, 128, 128, 128)\u001b[0m\u001b[0;34m\u001b[0m\u001b[0;34m\u001b[0m\u001b[0m\n",
            "\u001b[0;32m<ipython-input-139-11564df66d02>\u001b[0m in \u001b[0;36mres_block\u001b[0;34m(x, filters, kernel_size, padding, downsample, norm, act, dropout, name)\u001b[0m\n\u001b[1;32m     32\u001b[0m     \u001b[0;32mif\u001b[0m\u001b[0;34m(\u001b[0m\u001b[0mdropout\u001b[0m\u001b[0;34m)\u001b[0m\u001b[0;34m:\u001b[0m\u001b[0;34m\u001b[0m\u001b[0;34m\u001b[0m\u001b[0m\n\u001b[1;32m     33\u001b[0m         \u001b[0mconv\u001b[0m \u001b[0;34m=\u001b[0m \u001b[0mDropout\u001b[0m\u001b[0;34m(\u001b[0m\u001b[0mdropout\u001b[0m\u001b[0;34m,\u001b[0m \u001b[0mname\u001b[0m\u001b[0;34m+\u001b[0m\u001b[0;34m'_dropout'\u001b[0m\u001b[0;34m)\u001b[0m\u001b[0;34m(\u001b[0m\u001b[0mx\u001b[0m\u001b[0;34m)\u001b[0m\u001b[0;34m\u001b[0m\u001b[0;34m\u001b[0m\u001b[0m\n\u001b[0;32m---> 34\u001b[0;31m     \u001b[0mconv\u001b[0m \u001b[0;34m=\u001b[0m \u001b[0mConv2D\u001b[0m\u001b[0;34m(\u001b[0m\u001b[0mfilters\u001b[0m \u001b[0;34m=\u001b[0m \u001b[0mfilters\u001b[0m\u001b[0;34m,\u001b[0m \u001b[0mkernel_size\u001b[0m \u001b[0;34m=\u001b[0m \u001b[0mkernel_size\u001b[0m\u001b[0;34m,\u001b[0m \u001b[0mpadding\u001b[0m\u001b[0;34m=\u001b[0m\u001b[0mpadding\u001b[0m\u001b[0;34m,\u001b[0m \u001b[0mstrides\u001b[0m\u001b[0;34m=\u001b[0m\u001b[0;34m(\u001b[0m\u001b[0;36m1\u001b[0m \u001b[0;32mif\u001b[0m \u001b[0;32mnot\u001b[0m \u001b[0mdownsample\u001b[0m \u001b[0;32melse\u001b[0m \u001b[0;36m2\u001b[0m\u001b[0;34m)\u001b[0m\u001b[0;34m,\u001b[0m \u001b[0mname\u001b[0m \u001b[0;34m=\u001b[0m \u001b[0mname\u001b[0m\u001b[0;34m+\u001b[0m\u001b[0;34m'_conv1'\u001b[0m\u001b[0;34m)\u001b[0m\u001b[0;34m(\u001b[0m\u001b[0mx\u001b[0m\u001b[0;34m)\u001b[0m\u001b[0;34m\u001b[0m\u001b[0;34m\u001b[0m\u001b[0m\n\u001b[0m\u001b[1;32m     35\u001b[0m     \u001b[0;31m#Apply normalization and/or activation\u001b[0m\u001b[0;34m\u001b[0m\u001b[0;34m\u001b[0m\u001b[0;34m\u001b[0m\u001b[0m\n\u001b[1;32m     36\u001b[0m     \u001b[0mconv\u001b[0m \u001b[0;34m=\u001b[0m \u001b[0mnormalize_act\u001b[0m\u001b[0;34m(\u001b[0m\u001b[0mconv\u001b[0m\u001b[0;34m,\u001b[0m \u001b[0mnorm\u001b[0m \u001b[0;34m=\u001b[0m \u001b[0mnorm\u001b[0m\u001b[0;34m,\u001b[0m \u001b[0mact\u001b[0m \u001b[0;34m=\u001b[0m \u001b[0mact\u001b[0m\u001b[0;34m,\u001b[0m \u001b[0mname\u001b[0m \u001b[0;34m=\u001b[0m \u001b[0mname\u001b[0m\u001b[0;34m)\u001b[0m\u001b[0;34m\u001b[0m\u001b[0;34m\u001b[0m\u001b[0m\n",
            "\u001b[0;32m/usr/local/lib/python3.7/dist-packages/tensorflow/python/keras/engine/base_layer.py\u001b[0m in \u001b[0;36m__call__\u001b[0;34m(self, *args, **kwargs)\u001b[0m\n\u001b[1;32m    950\u001b[0m     \u001b[0;32mif\u001b[0m \u001b[0m_in_functional_construction_mode\u001b[0m\u001b[0;34m(\u001b[0m\u001b[0mself\u001b[0m\u001b[0;34m,\u001b[0m \u001b[0minputs\u001b[0m\u001b[0;34m,\u001b[0m \u001b[0margs\u001b[0m\u001b[0;34m,\u001b[0m \u001b[0mkwargs\u001b[0m\u001b[0;34m,\u001b[0m \u001b[0minput_list\u001b[0m\u001b[0;34m)\u001b[0m\u001b[0;34m:\u001b[0m\u001b[0;34m\u001b[0m\u001b[0;34m\u001b[0m\u001b[0m\n\u001b[1;32m    951\u001b[0m       return self._functional_construction_call(inputs, args, kwargs,\n\u001b[0;32m--> 952\u001b[0;31m                                                 input_list)\n\u001b[0m\u001b[1;32m    953\u001b[0m \u001b[0;34m\u001b[0m\u001b[0m\n\u001b[1;32m    954\u001b[0m     \u001b[0;31m# Maintains info about the `Layer.call` stack.\u001b[0m\u001b[0;34m\u001b[0m\u001b[0;34m\u001b[0m\u001b[0;34m\u001b[0m\u001b[0m\n",
            "\u001b[0;32m/usr/local/lib/python3.7/dist-packages/tensorflow/python/keras/engine/base_layer.py\u001b[0m in \u001b[0;36m_functional_construction_call\u001b[0;34m(self, inputs, args, kwargs, input_list)\u001b[0m\n\u001b[1;32m   1089\u001b[0m         \u001b[0;31m# Check input assumptions set after layer building, e.g. input shape.\u001b[0m\u001b[0;34m\u001b[0m\u001b[0;34m\u001b[0m\u001b[0;34m\u001b[0m\u001b[0m\n\u001b[1;32m   1090\u001b[0m         outputs = self._keras_tensor_symbolic_call(\n\u001b[0;32m-> 1091\u001b[0;31m             inputs, input_masks, args, kwargs)\n\u001b[0m\u001b[1;32m   1092\u001b[0m \u001b[0;34m\u001b[0m\u001b[0m\n\u001b[1;32m   1093\u001b[0m         \u001b[0;32mif\u001b[0m \u001b[0moutputs\u001b[0m \u001b[0;32mis\u001b[0m \u001b[0;32mNone\u001b[0m\u001b[0;34m:\u001b[0m\u001b[0;34m\u001b[0m\u001b[0;34m\u001b[0m\u001b[0m\n",
            "\u001b[0;32m/usr/local/lib/python3.7/dist-packages/tensorflow/python/keras/engine/base_layer.py\u001b[0m in \u001b[0;36m_keras_tensor_symbolic_call\u001b[0;34m(self, inputs, input_masks, args, kwargs)\u001b[0m\n\u001b[1;32m    820\u001b[0m       \u001b[0;32mreturn\u001b[0m \u001b[0mnest\u001b[0m\u001b[0;34m.\u001b[0m\u001b[0mmap_structure\u001b[0m\u001b[0;34m(\u001b[0m\u001b[0mkeras_tensor\u001b[0m\u001b[0;34m.\u001b[0m\u001b[0mKerasTensor\u001b[0m\u001b[0;34m,\u001b[0m \u001b[0moutput_signature\u001b[0m\u001b[0;34m)\u001b[0m\u001b[0;34m\u001b[0m\u001b[0;34m\u001b[0m\u001b[0m\n\u001b[1;32m    821\u001b[0m     \u001b[0;32melse\u001b[0m\u001b[0;34m:\u001b[0m\u001b[0;34m\u001b[0m\u001b[0;34m\u001b[0m\u001b[0m\n\u001b[0;32m--> 822\u001b[0;31m       \u001b[0;32mreturn\u001b[0m \u001b[0mself\u001b[0m\u001b[0;34m.\u001b[0m\u001b[0m_infer_output_signature\u001b[0m\u001b[0;34m(\u001b[0m\u001b[0minputs\u001b[0m\u001b[0;34m,\u001b[0m \u001b[0margs\u001b[0m\u001b[0;34m,\u001b[0m \u001b[0mkwargs\u001b[0m\u001b[0;34m,\u001b[0m \u001b[0minput_masks\u001b[0m\u001b[0;34m)\u001b[0m\u001b[0;34m\u001b[0m\u001b[0;34m\u001b[0m\u001b[0m\n\u001b[0m\u001b[1;32m    823\u001b[0m \u001b[0;34m\u001b[0m\u001b[0m\n\u001b[1;32m    824\u001b[0m   \u001b[0;32mdef\u001b[0m \u001b[0m_infer_output_signature\u001b[0m\u001b[0;34m(\u001b[0m\u001b[0mself\u001b[0m\u001b[0;34m,\u001b[0m \u001b[0minputs\u001b[0m\u001b[0;34m,\u001b[0m \u001b[0margs\u001b[0m\u001b[0;34m,\u001b[0m \u001b[0mkwargs\u001b[0m\u001b[0;34m,\u001b[0m \u001b[0minput_masks\u001b[0m\u001b[0;34m)\u001b[0m\u001b[0;34m:\u001b[0m\u001b[0;34m\u001b[0m\u001b[0;34m\u001b[0m\u001b[0m\n",
            "\u001b[0;32m/usr/local/lib/python3.7/dist-packages/tensorflow/python/keras/engine/base_layer.py\u001b[0m in \u001b[0;36m_infer_output_signature\u001b[0;34m(self, inputs, args, kwargs, input_masks)\u001b[0m\n\u001b[1;32m    854\u001b[0m       \u001b[0minputs\u001b[0m \u001b[0;34m=\u001b[0m \u001b[0mself\u001b[0m\u001b[0;34m.\u001b[0m\u001b[0m_maybe_cast_inputs\u001b[0m\u001b[0;34m(\u001b[0m\u001b[0minputs\u001b[0m\u001b[0;34m)\u001b[0m\u001b[0;34m\u001b[0m\u001b[0;34m\u001b[0m\u001b[0m\n\u001b[1;32m    855\u001b[0m \u001b[0;34m\u001b[0m\u001b[0m\n\u001b[0;32m--> 856\u001b[0;31m       \u001b[0;32mwith\u001b[0m \u001b[0mbackend\u001b[0m\u001b[0;34m.\u001b[0m\u001b[0mname_scope\u001b[0m\u001b[0;34m(\u001b[0m\u001b[0mself\u001b[0m\u001b[0;34m.\u001b[0m\u001b[0m_name_scope\u001b[0m\u001b[0;34m(\u001b[0m\u001b[0;34m)\u001b[0m\u001b[0;34m)\u001b[0m\u001b[0;34m:\u001b[0m\u001b[0;34m\u001b[0m\u001b[0;34m\u001b[0m\u001b[0m\n\u001b[0m\u001b[1;32m    857\u001b[0m         with autocast_variable.enable_auto_cast_variables(\n\u001b[1;32m    858\u001b[0m             self._compute_dtype_object):\n",
            "\u001b[0;32m/usr/local/lib/python3.7/dist-packages/tensorflow/python/framework/ops.py\u001b[0m in \u001b[0;36m__enter__\u001b[0;34m(self)\u001b[0m\n\u001b[1;32m   6648\u001b[0m     \u001b[0;32melse\u001b[0m\u001b[0;34m:\u001b[0m\u001b[0;34m\u001b[0m\u001b[0;34m\u001b[0m\u001b[0m\n\u001b[1;32m   6649\u001b[0m       \u001b[0mscope\u001b[0m \u001b[0;34m=\u001b[0m \u001b[0mget_default_graph\u001b[0m\u001b[0;34m(\u001b[0m\u001b[0;34m)\u001b[0m\u001b[0;34m.\u001b[0m\u001b[0mname_scope\u001b[0m\u001b[0;34m(\u001b[0m\u001b[0mself\u001b[0m\u001b[0;34m.\u001b[0m\u001b[0m_name\u001b[0m\u001b[0;34m)\u001b[0m\u001b[0;34m\u001b[0m\u001b[0;34m\u001b[0m\u001b[0m\n\u001b[0;32m-> 6650\u001b[0;31m       \u001b[0mscope_name\u001b[0m \u001b[0;34m=\u001b[0m \u001b[0mscope\u001b[0m\u001b[0;34m.\u001b[0m\u001b[0m__enter__\u001b[0m\u001b[0;34m(\u001b[0m\u001b[0;34m)\u001b[0m\u001b[0;34m\u001b[0m\u001b[0;34m\u001b[0m\u001b[0m\n\u001b[0m\u001b[1;32m   6651\u001b[0m       \u001b[0mself\u001b[0m\u001b[0;34m.\u001b[0m\u001b[0m_exit_fns\u001b[0m\u001b[0;34m.\u001b[0m\u001b[0mappend\u001b[0m\u001b[0;34m(\u001b[0m\u001b[0mscope\u001b[0m\u001b[0;34m.\u001b[0m\u001b[0m__exit__\u001b[0m\u001b[0;34m)\u001b[0m\u001b[0;34m\u001b[0m\u001b[0;34m\u001b[0m\u001b[0m\n\u001b[1;32m   6652\u001b[0m     \u001b[0;32mreturn\u001b[0m \u001b[0mscope_name\u001b[0m\u001b[0;34m\u001b[0m\u001b[0;34m\u001b[0m\u001b[0m\n",
            "\u001b[0;32m/usr/lib/python3.7/contextlib.py\u001b[0m in \u001b[0;36m__enter__\u001b[0;34m(self)\u001b[0m\n\u001b[1;32m    110\u001b[0m         \u001b[0;32mdel\u001b[0m \u001b[0mself\u001b[0m\u001b[0;34m.\u001b[0m\u001b[0margs\u001b[0m\u001b[0;34m,\u001b[0m \u001b[0mself\u001b[0m\u001b[0;34m.\u001b[0m\u001b[0mkwds\u001b[0m\u001b[0;34m,\u001b[0m \u001b[0mself\u001b[0m\u001b[0;34m.\u001b[0m\u001b[0mfunc\u001b[0m\u001b[0;34m\u001b[0m\u001b[0;34m\u001b[0m\u001b[0m\n\u001b[1;32m    111\u001b[0m         \u001b[0;32mtry\u001b[0m\u001b[0;34m:\u001b[0m\u001b[0;34m\u001b[0m\u001b[0;34m\u001b[0m\u001b[0m\n\u001b[0;32m--> 112\u001b[0;31m             \u001b[0;32mreturn\u001b[0m \u001b[0mnext\u001b[0m\u001b[0;34m(\u001b[0m\u001b[0mself\u001b[0m\u001b[0;34m.\u001b[0m\u001b[0mgen\u001b[0m\u001b[0;34m)\u001b[0m\u001b[0;34m\u001b[0m\u001b[0;34m\u001b[0m\u001b[0m\n\u001b[0m\u001b[1;32m    113\u001b[0m         \u001b[0;32mexcept\u001b[0m \u001b[0mStopIteration\u001b[0m\u001b[0;34m:\u001b[0m\u001b[0;34m\u001b[0m\u001b[0;34m\u001b[0m\u001b[0m\n\u001b[1;32m    114\u001b[0m             \u001b[0;32mraise\u001b[0m \u001b[0mRuntimeError\u001b[0m\u001b[0;34m(\u001b[0m\u001b[0;34m\"generator didn't yield\"\u001b[0m\u001b[0;34m)\u001b[0m \u001b[0;32mfrom\u001b[0m \u001b[0;32mNone\u001b[0m\u001b[0;34m\u001b[0m\u001b[0;34m\u001b[0m\u001b[0m\n",
            "\u001b[0;32m/usr/local/lib/python3.7/dist-packages/tensorflow/python/framework/ops.py\u001b[0m in \u001b[0;36mname_scope\u001b[0;34m(self, name)\u001b[0m\n\u001b[1;32m   4244\u001b[0m         \u001b[0;31m# op name regex, which constrains the initial character.\u001b[0m\u001b[0;34m\u001b[0m\u001b[0;34m\u001b[0m\u001b[0;34m\u001b[0m\u001b[0m\n\u001b[1;32m   4245\u001b[0m         \u001b[0;32mif\u001b[0m \u001b[0;32mnot\u001b[0m \u001b[0m_VALID_OP_NAME_REGEX\u001b[0m\u001b[0;34m.\u001b[0m\u001b[0mmatch\u001b[0m\u001b[0;34m(\u001b[0m\u001b[0mname\u001b[0m\u001b[0;34m)\u001b[0m\u001b[0;34m:\u001b[0m\u001b[0;34m\u001b[0m\u001b[0;34m\u001b[0m\u001b[0m\n\u001b[0;32m-> 4246\u001b[0;31m           \u001b[0;32mraise\u001b[0m \u001b[0mValueError\u001b[0m\u001b[0;34m(\u001b[0m\u001b[0;34m\"'%s' is not a valid scope name\"\u001b[0m \u001b[0;34m%\u001b[0m \u001b[0mname\u001b[0m\u001b[0;34m)\u001b[0m\u001b[0;34m\u001b[0m\u001b[0;34m\u001b[0m\u001b[0m\n\u001b[0m\u001b[1;32m   4247\u001b[0m     \u001b[0mold_stack\u001b[0m \u001b[0;34m=\u001b[0m \u001b[0mself\u001b[0m\u001b[0;34m.\u001b[0m\u001b[0m_name_stack\u001b[0m\u001b[0;34m\u001b[0m\u001b[0;34m\u001b[0m\u001b[0m\n\u001b[1;32m   4248\u001b[0m     \u001b[0;32mif\u001b[0m \u001b[0;32mnot\u001b[0m \u001b[0mname\u001b[0m\u001b[0;34m:\u001b[0m  \u001b[0;31m# Both for name=None and name=\"\" we re-set to empty scope.\u001b[0m\u001b[0;34m\u001b[0m\u001b[0;34m\u001b[0m\u001b[0m\n",
            "\u001b[0;31mValueError\u001b[0m: 'unet_encoder(1024, 1024, 64)_conv1/' is not a valid scope name"
          ]
        }
      ]
    },
    {
      "cell_type": "markdown",
      "metadata": {
        "id": "i-h6yzkDB1Q_"
      },
      "source": [
        "### Default naming follows this format"
      ]
    },
    {
      "cell_type": "code",
      "metadata": {
        "id": "_k4qiEhrdaI_"
      },
      "source": [
        "y = (None, 1024, 1024, 64)\n",
        "str1 = \"\"\n",
        "x = str1.join(str(z[1:]))"
      ],
      "execution_count": null,
      "outputs": []
    },
    {
      "cell_type": "code",
      "metadata": {
        "id": "zTR25_Wjgmb_"
      },
      "source": [
        "name = 'unet_encoder'"
      ],
      "execution_count": null,
      "outputs": []
    },
    {
      "cell_type": "code",
      "metadata": {
        "id": "0K0rbzyNgsgq"
      },
      "source": [
        "name = name+str1.join(str(y[1:]))"
      ],
      "execution_count": null,
      "outputs": []
    },
    {
      "cell_type": "code",
      "metadata": {
        "colab": {
          "base_uri": "https://localhost:8080/",
          "height": 36
        },
        "id": "lSnr_pY7d4xg",
        "outputId": "20bb0cb1-f360-4a11-9843-2fbbff0c7646"
      },
      "source": [
        " name+str('_conv1')"
      ],
      "execution_count": null,
      "outputs": [
        {
          "output_type": "execute_result",
          "data": {
            "application/vnd.google.colaboratory.intrinsic+json": {
              "type": "string"
            },
            "text/plain": [
              "'unet_encoder(1024, 1024, 64)_conv1'"
            ]
          },
          "metadata": {
            "tags": []
          },
          "execution_count": 72
        }
      ]
    },
    {
      "cell_type": "markdown",
      "metadata": {
        "id": "WZbNPBDNKhZt"
      },
      "source": [
        "## Current Custom Model"
      ]
    },
    {
      "cell_type": "code",
      "metadata": {
        "id": "_RorhQW2KgPo"
      },
      "source": [
        "def unet_encoder(x):\n",
        "    '''Unet Encoder block. Output size for input 1024x1024x3 given.'''\n",
        "    #x1 = encoder_input(x, filters = 16, kernel_size = [(5,5), (3,3),(5,5), (3,3)]) #(None, 1024, 1024, 64)\n",
        "    x1 = encoder_input(x, filters = 16, kernel_size = [(9,9), (7,7),(5,5), (3,3)]) #(None, 1024, 1024, 64)\n",
        "    #x1 = encoder_input(x,n_conv =3, filters = [16,24,24], kernel_size = [(7,7),(5,5), (3,3)]) #(None, 1024, 1024, 64)\n",
        "    x2 = res_block(x1, filters = 64) #(None, 512, 512, 64)\n",
        "    x3 = res_block(x2, filters = 64) #(None, 256, 256, 64)\n",
        "    x4 = res_block(x3, filters = 128)#(None, 128, 128, 128)\n",
        "    x5 = res_block(x4, filters = 128)#(None, 64, 64, 128)\n",
        "    x6 = res_block(x5, filters = 256)#(None, 32, 32, 256)\n",
        "    x7 = res_block(x6, filters = 512)#(None, 16, 16, 512)\n",
        "    out = res_block(x7, filters = 1024)#(None, 8, 8, 1024)\n",
        "    \n",
        "    #Return encoder output and skip connections to be used in decoder\n",
        "    return (out, x1, x2, x3, x4, x5, x6, x7)\n",
        "\n",
        "#Unet Decoder\n",
        "def unet_decoder(encoder_out):\n",
        "    '''Unet Decoder block. Output size for input 1024x1024x3 given.'''\n",
        "    x, x1, x2, x3, x4, x5, x6, x7 = encoder_out\n",
        "    dropout = 0.2\n",
        "    \n",
        "    x = res_block(x, filters = 1024, dropout = dropout, norm = 'in', downsample= False) #(None, 8, 8, 1024)\n",
        "    x = UpSampling2D()(x)#(None, 16, 16, 1024)\n",
        "    \n",
        "    x = res_block(x, filters = 512, dropout = dropout, norm = 'in', downsample= False)#(None, 16, 16, 512)\n",
        "    x = skip_connect(x7, x, filters = 512)#(None, 16, 16, 1024)\n",
        "    x = UpSampling2D()(x)#(None, 32, 32, 1024)\n",
        "    \n",
        "    x = res_block(x, filters = 256, dropout = dropout, norm = 'in', downsample= False)#(None, 32, 32, 256)\n",
        "    x = skip_connect(x6, x,kernel_size = (5,5), filters = 256)#(None, 32, 32, 512)\n",
        "    x = UpSampling2D()(x)#(None, 64, 64, 512)\n",
        "    \n",
        "    x = res_block(x, filters = 128, dropout = dropout, norm = 'in', downsample= False)#(None, 64, 64, 128)\n",
        "    x = skip_connect(x5, x,kernel_size = (5,5), filters = 128)#(None, 64, 64, 256)\n",
        "    x = UpSampling2D()(x)#(None, 128, 128, 256)\n",
        "    \n",
        "    x = res_block(x, filters = 64, dropout = dropout, norm = 'in', downsample= False)#(None, 128, 128, 64)\n",
        "    x = skip_connect(x4, x, kernel_size = (7,7), filters = 64)#(None, 128, 128, 128)\n",
        "    x = UpSampling2D()(x)#(None, 256, 256, 128)\n",
        "    \n",
        "    x = res_block(x, filters = 16, dropout = dropout, norm = 'in', downsample= False)#(None, 256, 256, 16)\n",
        "    x = skip_connect(x3, x,kernel_size = (7,7), filters = 16)#(None, 256, 256, 32)\n",
        "    x = UpSampling2D()(x)#(None, 512, 512, 32)\n",
        "\n",
        "    x = res_block(x, filters = 16, dropout = dropout, norm = 'in', downsample= False)#(None, 512, 512, 16)\n",
        "    x = skip_connect(x2, x,kernel_size = (9,9), filters = 16)#(None, 512, 512, 32)\n",
        "    x = UpSampling2D()(x)#(None, 1024, 1024, 32)\n",
        "    \n",
        "    x = Conv2D(3, (3, 3), padding='same', activation='relu')(x)#(None, 1024, 1024, 3)\n",
        "    \n",
        "    return x"
      ],
      "execution_count": null,
      "outputs": []
    },
    {
      "cell_type": "code",
      "metadata": {
        "id": "CKLICfnjlZGK"
      },
      "source": [
        "imsize = 1024"
      ],
      "execution_count": null,
      "outputs": []
    },
    {
      "cell_type": "code",
      "metadata": {
        "id": "U9YyMcUbRMt_"
      },
      "source": [
        "def Unet(optim, custom_loss):\n",
        "    model = Sequential()\n",
        "    inmodel = Input((imsize, imsize, 3)) #Input with free width, height\n",
        "    #print(inmodel.shape)\n",
        "\n",
        "    #Encoder\n",
        "    encoder_out = unet_encoder(inmodel)\n",
        "\n",
        "    #Decoder\n",
        "    outmodel = unet_decoder(encoder_out)\n",
        "\n",
        "    model = keras.models.Model(inputs = inmodel, outputs = outmodel)\n",
        "    model.compile(optimizer=my_optimizer, loss=custom_loss)\n",
        "\n",
        "    return model"
      ],
      "execution_count": null,
      "outputs": []
    },
    {
      "cell_type": "code",
      "metadata": {
        "colab": {
          "base_uri": "https://localhost:8080/"
        },
        "id": "a8sgladPaYND",
        "outputId": "b8c37710-6ee6-48c4-ac0f-cf606d3c9088"
      },
      "source": [
        "new_model = Unet(my_optimizer, custom_loss)\n",
        "print(new_model.summary())"
      ],
      "execution_count": null,
      "outputs": [
        {
          "output_type": "stream",
          "text": [
            "Model: \"model\"\n",
            "__________________________________________________________________________________________________\n",
            "Layer (type)                    Output Shape         Param #     Connected to                     \n",
            "==================================================================================================\n",
            "input_1 (InputLayer)            [(None, 1024, 1024,  0                                            \n",
            "__________________________________________________________________________________________________\n",
            "conv2d (Conv2D)                 (None, 1024, 1024, 1 3904        input_1[0][0]                    \n",
            "__________________________________________________________________________________________________\n",
            "conv2d_1 (Conv2D)               (None, 1024, 1024, 1 2368        input_1[0][0]                    \n",
            "__________________________________________________________________________________________________\n",
            "conv2d_2 (Conv2D)               (None, 1024, 1024, 1 1216        input_1[0][0]                    \n",
            "__________________________________________________________________________________________________\n",
            "conv2d_3 (Conv2D)               (None, 1024, 1024, 1 448         input_1[0][0]                    \n",
            "__________________________________________________________________________________________________\n",
            "activation (Activation)         (None, 1024, 1024, 1 0           conv2d[0][0]                     \n",
            "__________________________________________________________________________________________________\n",
            "activation_1 (Activation)       (None, 1024, 1024, 1 0           conv2d_1[0][0]                   \n",
            "__________________________________________________________________________________________________\n",
            "activation_2 (Activation)       (None, 1024, 1024, 1 0           conv2d_2[0][0]                   \n",
            "__________________________________________________________________________________________________\n",
            "activation_3 (Activation)       (None, 1024, 1024, 1 0           conv2d_3[0][0]                   \n",
            "__________________________________________________________________________________________________\n",
            "concatenate (Concatenate)       (None, 1024, 1024, 6 0           activation[0][0]                 \n",
            "                                                                 activation_1[0][0]               \n",
            "                                                                 activation_2[0][0]               \n",
            "                                                                 activation_3[0][0]               \n",
            "__________________________________________________________________________________________________\n",
            "conv2d_4 (Conv2D)               (None, 512, 512, 64) 36928       concatenate[0][0]                \n",
            "__________________________________________________________________________________________________\n",
            "activation_4 (Activation)       (None, 512, 512, 64) 0           conv2d_4[0][0]                   \n",
            "__________________________________________________________________________________________________\n",
            "conv2d_6 (Conv2D)               (None, 512, 512, 64) 36928       concatenate[0][0]                \n",
            "__________________________________________________________________________________________________\n",
            "conv2d_5 (Conv2D)               (None, 512, 512, 64) 36928       activation_4[0][0]               \n",
            "__________________________________________________________________________________________________\n",
            "add (Add)                       (None, 512, 512, 64) 0           conv2d_6[0][0]                   \n",
            "                                                                 conv2d_5[0][0]                   \n",
            "__________________________________________________________________________________________________\n",
            "conv2d_7 (Conv2D)               (None, 256, 256, 64) 36928       add[0][0]                        \n",
            "__________________________________________________________________________________________________\n",
            "activation_5 (Activation)       (None, 256, 256, 64) 0           conv2d_7[0][0]                   \n",
            "__________________________________________________________________________________________________\n",
            "conv2d_9 (Conv2D)               (None, 256, 256, 64) 36928       add[0][0]                        \n",
            "__________________________________________________________________________________________________\n",
            "conv2d_8 (Conv2D)               (None, 256, 256, 64) 36928       activation_5[0][0]               \n",
            "__________________________________________________________________________________________________\n",
            "add_1 (Add)                     (None, 256, 256, 64) 0           conv2d_9[0][0]                   \n",
            "                                                                 conv2d_8[0][0]                   \n",
            "__________________________________________________________________________________________________\n",
            "conv2d_10 (Conv2D)              (None, 128, 128, 128 73856       add_1[0][0]                      \n",
            "__________________________________________________________________________________________________\n",
            "activation_6 (Activation)       (None, 128, 128, 128 0           conv2d_10[0][0]                  \n",
            "__________________________________________________________________________________________________\n",
            "conv2d_12 (Conv2D)              (None, 128, 128, 128 73856       add_1[0][0]                      \n",
            "__________________________________________________________________________________________________\n",
            "conv2d_11 (Conv2D)              (None, 128, 128, 128 147584      activation_6[0][0]               \n",
            "__________________________________________________________________________________________________\n",
            "add_2 (Add)                     (None, 128, 128, 128 0           conv2d_12[0][0]                  \n",
            "                                                                 conv2d_11[0][0]                  \n",
            "__________________________________________________________________________________________________\n",
            "conv2d_13 (Conv2D)              (None, 64, 64, 128)  147584      add_2[0][0]                      \n",
            "__________________________________________________________________________________________________\n",
            "activation_7 (Activation)       (None, 64, 64, 128)  0           conv2d_13[0][0]                  \n",
            "__________________________________________________________________________________________________\n",
            "conv2d_15 (Conv2D)              (None, 64, 64, 128)  147584      add_2[0][0]                      \n",
            "__________________________________________________________________________________________________\n",
            "conv2d_14 (Conv2D)              (None, 64, 64, 128)  147584      activation_7[0][0]               \n",
            "__________________________________________________________________________________________________\n",
            "add_3 (Add)                     (None, 64, 64, 128)  0           conv2d_15[0][0]                  \n",
            "                                                                 conv2d_14[0][0]                  \n",
            "__________________________________________________________________________________________________\n",
            "conv2d_16 (Conv2D)              (None, 32, 32, 256)  295168      add_3[0][0]                      \n",
            "__________________________________________________________________________________________________\n",
            "activation_8 (Activation)       (None, 32, 32, 256)  0           conv2d_16[0][0]                  \n",
            "__________________________________________________________________________________________________\n",
            "conv2d_18 (Conv2D)              (None, 32, 32, 256)  295168      add_3[0][0]                      \n",
            "__________________________________________________________________________________________________\n",
            "conv2d_17 (Conv2D)              (None, 32, 32, 256)  590080      activation_8[0][0]               \n",
            "__________________________________________________________________________________________________\n",
            "add_4 (Add)                     (None, 32, 32, 256)  0           conv2d_18[0][0]                  \n",
            "                                                                 conv2d_17[0][0]                  \n",
            "__________________________________________________________________________________________________\n",
            "conv2d_19 (Conv2D)              (None, 16, 16, 512)  1180160     add_4[0][0]                      \n",
            "__________________________________________________________________________________________________\n",
            "activation_9 (Activation)       (None, 16, 16, 512)  0           conv2d_19[0][0]                  \n",
            "__________________________________________________________________________________________________\n",
            "conv2d_21 (Conv2D)              (None, 16, 16, 512)  1180160     add_4[0][0]                      \n",
            "__________________________________________________________________________________________________\n",
            "conv2d_20 (Conv2D)              (None, 16, 16, 512)  2359808     activation_9[0][0]               \n",
            "__________________________________________________________________________________________________\n",
            "add_5 (Add)                     (None, 16, 16, 512)  0           conv2d_21[0][0]                  \n",
            "                                                                 conv2d_20[0][0]                  \n",
            "__________________________________________________________________________________________________\n",
            "conv2d_22 (Conv2D)              (None, 8, 8, 1024)   4719616     add_5[0][0]                      \n",
            "__________________________________________________________________________________________________\n",
            "activation_10 (Activation)      (None, 8, 8, 1024)   0           conv2d_22[0][0]                  \n",
            "__________________________________________________________________________________________________\n",
            "conv2d_24 (Conv2D)              (None, 8, 8, 1024)   4719616     add_5[0][0]                      \n",
            "__________________________________________________________________________________________________\n",
            "conv2d_23 (Conv2D)              (None, 8, 8, 1024)   9438208     activation_10[0][0]              \n",
            "__________________________________________________________________________________________________\n",
            "add_6 (Add)                     (None, 8, 8, 1024)   0           conv2d_24[0][0]                  \n",
            "                                                                 conv2d_23[0][0]                  \n",
            "__________________________________________________________________________________________________\n",
            "conv2d_25 (Conv2D)              (None, 8, 8, 1024)   9438208     add_6[0][0]                      \n",
            "__________________________________________________________________________________________________\n",
            "instance_normalization (Instanc (None, 8, 8, 1024)   2048        conv2d_25[0][0]                  \n",
            "__________________________________________________________________________________________________\n",
            "activation_11 (Activation)      (None, 8, 8, 1024)   0           instance_normalization[0][0]     \n",
            "__________________________________________________________________________________________________\n",
            "conv2d_27 (Conv2D)              (None, 8, 8, 1024)   9438208     add_6[0][0]                      \n",
            "__________________________________________________________________________________________________\n",
            "conv2d_26 (Conv2D)              (None, 8, 8, 1024)   9438208     activation_11[0][0]              \n",
            "__________________________________________________________________________________________________\n",
            "add_7 (Add)                     (None, 8, 8, 1024)   0           conv2d_27[0][0]                  \n",
            "                                                                 conv2d_26[0][0]                  \n",
            "__________________________________________________________________________________________________\n",
            "up_sampling2d (UpSampling2D)    (None, 16, 16, 1024) 0           add_7[0][0]                      \n",
            "__________________________________________________________________________________________________\n",
            "conv2d_28 (Conv2D)              (None, 16, 16, 512)  4719104     up_sampling2d[0][0]              \n",
            "__________________________________________________________________________________________________\n",
            "instance_normalization_1 (Insta (None, 16, 16, 512)  1024        conv2d_28[0][0]                  \n",
            "__________________________________________________________________________________________________\n",
            "activation_12 (Activation)      (None, 16, 16, 512)  0           instance_normalization_1[0][0]   \n",
            "__________________________________________________________________________________________________\n",
            "conv2d_30 (Conv2D)              (None, 16, 16, 512)  4719104     up_sampling2d[0][0]              \n",
            "__________________________________________________________________________________________________\n",
            "conv2d_29 (Conv2D)              (None, 16, 16, 512)  2359808     activation_12[0][0]              \n",
            "__________________________________________________________________________________________________\n",
            "conv2d_31 (Conv2D)              (None, 16, 16, 512)  262656      add_5[0][0]                      \n",
            "__________________________________________________________________________________________________\n",
            "add_8 (Add)                     (None, 16, 16, 512)  0           conv2d_30[0][0]                  \n",
            "                                                                 conv2d_29[0][0]                  \n",
            "__________________________________________________________________________________________________\n",
            "concatenate_1 (Concatenate)     (None, 16, 16, 1024) 0           conv2d_31[0][0]                  \n",
            "                                                                 add_8[0][0]                      \n",
            "__________________________________________________________________________________________________\n",
            "instance_normalization_2 (Insta (None, 16, 16, 1024) 2048        concatenate_1[0][0]              \n",
            "__________________________________________________________________________________________________\n",
            "activation_13 (Activation)      (None, 16, 16, 1024) 0           instance_normalization_2[0][0]   \n",
            "__________________________________________________________________________________________________\n",
            "up_sampling2d_1 (UpSampling2D)  (None, 32, 32, 1024) 0           activation_13[0][0]              \n",
            "__________________________________________________________________________________________________\n",
            "conv2d_32 (Conv2D)              (None, 32, 32, 256)  2359552     up_sampling2d_1[0][0]            \n",
            "__________________________________________________________________________________________________\n",
            "instance_normalization_3 (Insta (None, 32, 32, 256)  512         conv2d_32[0][0]                  \n",
            "__________________________________________________________________________________________________\n",
            "activation_14 (Activation)      (None, 32, 32, 256)  0           instance_normalization_3[0][0]   \n",
            "__________________________________________________________________________________________________\n",
            "conv2d_34 (Conv2D)              (None, 32, 32, 256)  2359552     up_sampling2d_1[0][0]            \n",
            "__________________________________________________________________________________________________\n",
            "conv2d_33 (Conv2D)              (None, 32, 32, 256)  590080      activation_14[0][0]              \n",
            "__________________________________________________________________________________________________\n",
            "conv2d_35 (Conv2D)              (None, 32, 32, 256)  1638656     add_4[0][0]                      \n",
            "__________________________________________________________________________________________________\n",
            "add_9 (Add)                     (None, 32, 32, 256)  0           conv2d_34[0][0]                  \n",
            "                                                                 conv2d_33[0][0]                  \n",
            "__________________________________________________________________________________________________\n",
            "concatenate_2 (Concatenate)     (None, 32, 32, 512)  0           conv2d_35[0][0]                  \n",
            "                                                                 add_9[0][0]                      \n",
            "__________________________________________________________________________________________________\n",
            "instance_normalization_4 (Insta (None, 32, 32, 512)  1024        concatenate_2[0][0]              \n",
            "__________________________________________________________________________________________________\n",
            "activation_15 (Activation)      (None, 32, 32, 512)  0           instance_normalization_4[0][0]   \n",
            "__________________________________________________________________________________________________\n",
            "up_sampling2d_2 (UpSampling2D)  (None, 64, 64, 512)  0           activation_15[0][0]              \n",
            "__________________________________________________________________________________________________\n",
            "conv2d_36 (Conv2D)              (None, 64, 64, 128)  589952      up_sampling2d_2[0][0]            \n",
            "__________________________________________________________________________________________________\n",
            "instance_normalization_5 (Insta (None, 64, 64, 128)  256         conv2d_36[0][0]                  \n",
            "__________________________________________________________________________________________________\n",
            "activation_16 (Activation)      (None, 64, 64, 128)  0           instance_normalization_5[0][0]   \n",
            "__________________________________________________________________________________________________\n",
            "conv2d_38 (Conv2D)              (None, 64, 64, 128)  589952      up_sampling2d_2[0][0]            \n",
            "__________________________________________________________________________________________________\n",
            "conv2d_37 (Conv2D)              (None, 64, 64, 128)  147584      activation_16[0][0]              \n",
            "__________________________________________________________________________________________________\n",
            "conv2d_39 (Conv2D)              (None, 64, 64, 128)  409728      add_3[0][0]                      \n",
            "__________________________________________________________________________________________________\n",
            "add_10 (Add)                    (None, 64, 64, 128)  0           conv2d_38[0][0]                  \n",
            "                                                                 conv2d_37[0][0]                  \n",
            "__________________________________________________________________________________________________\n",
            "concatenate_3 (Concatenate)     (None, 64, 64, 256)  0           conv2d_39[0][0]                  \n",
            "                                                                 add_10[0][0]                     \n",
            "__________________________________________________________________________________________________\n",
            "instance_normalization_6 (Insta (None, 64, 64, 256)  512         concatenate_3[0][0]              \n",
            "__________________________________________________________________________________________________\n",
            "activation_17 (Activation)      (None, 64, 64, 256)  0           instance_normalization_6[0][0]   \n",
            "__________________________________________________________________________________________________\n",
            "up_sampling2d_3 (UpSampling2D)  (None, 128, 128, 256 0           activation_17[0][0]              \n",
            "__________________________________________________________________________________________________\n",
            "conv2d_40 (Conv2D)              (None, 128, 128, 64) 147520      up_sampling2d_3[0][0]            \n",
            "__________________________________________________________________________________________________\n",
            "instance_normalization_7 (Insta (None, 128, 128, 64) 128         conv2d_40[0][0]                  \n",
            "__________________________________________________________________________________________________\n",
            "activation_18 (Activation)      (None, 128, 128, 64) 0           instance_normalization_7[0][0]   \n",
            "__________________________________________________________________________________________________\n",
            "conv2d_42 (Conv2D)              (None, 128, 128, 64) 147520      up_sampling2d_3[0][0]            \n",
            "__________________________________________________________________________________________________\n",
            "conv2d_41 (Conv2D)              (None, 128, 128, 64) 36928       activation_18[0][0]              \n",
            "__________________________________________________________________________________________________\n",
            "conv2d_43 (Conv2D)              (None, 128, 128, 64) 401472      add_2[0][0]                      \n",
            "__________________________________________________________________________________________________\n",
            "add_11 (Add)                    (None, 128, 128, 64) 0           conv2d_42[0][0]                  \n",
            "                                                                 conv2d_41[0][0]                  \n",
            "__________________________________________________________________________________________________\n",
            "concatenate_4 (Concatenate)     (None, 128, 128, 128 0           conv2d_43[0][0]                  \n",
            "                                                                 add_11[0][0]                     \n",
            "__________________________________________________________________________________________________\n",
            "instance_normalization_8 (Insta (None, 128, 128, 128 256         concatenate_4[0][0]              \n",
            "__________________________________________________________________________________________________\n",
            "activation_19 (Activation)      (None, 128, 128, 128 0           instance_normalization_8[0][0]   \n",
            "__________________________________________________________________________________________________\n",
            "up_sampling2d_4 (UpSampling2D)  (None, 256, 256, 128 0           activation_19[0][0]              \n",
            "__________________________________________________________________________________________________\n",
            "conv2d_44 (Conv2D)              (None, 256, 256, 16) 18448       up_sampling2d_4[0][0]            \n",
            "__________________________________________________________________________________________________\n",
            "instance_normalization_9 (Insta (None, 256, 256, 16) 32          conv2d_44[0][0]                  \n",
            "__________________________________________________________________________________________________\n",
            "activation_20 (Activation)      (None, 256, 256, 16) 0           instance_normalization_9[0][0]   \n",
            "__________________________________________________________________________________________________\n",
            "conv2d_46 (Conv2D)              (None, 256, 256, 16) 18448       up_sampling2d_4[0][0]            \n",
            "__________________________________________________________________________________________________\n",
            "conv2d_45 (Conv2D)              (None, 256, 256, 16) 2320        activation_20[0][0]              \n",
            "__________________________________________________________________________________________________\n",
            "conv2d_47 (Conv2D)              (None, 256, 256, 16) 50192       add_1[0][0]                      \n",
            "__________________________________________________________________________________________________\n",
            "add_12 (Add)                    (None, 256, 256, 16) 0           conv2d_46[0][0]                  \n",
            "                                                                 conv2d_45[0][0]                  \n",
            "__________________________________________________________________________________________________\n",
            "concatenate_5 (Concatenate)     (None, 256, 256, 32) 0           conv2d_47[0][0]                  \n",
            "                                                                 add_12[0][0]                     \n",
            "__________________________________________________________________________________________________\n",
            "instance_normalization_10 (Inst (None, 256, 256, 32) 64          concatenate_5[0][0]              \n",
            "__________________________________________________________________________________________________\n",
            "activation_21 (Activation)      (None, 256, 256, 32) 0           instance_normalization_10[0][0]  \n",
            "__________________________________________________________________________________________________\n",
            "up_sampling2d_5 (UpSampling2D)  (None, 512, 512, 32) 0           activation_21[0][0]              \n",
            "__________________________________________________________________________________________________\n",
            "conv2d_48 (Conv2D)              (None, 512, 512, 16) 4624        up_sampling2d_5[0][0]            \n",
            "__________________________________________________________________________________________________\n",
            "instance_normalization_11 (Inst (None, 512, 512, 16) 32          conv2d_48[0][0]                  \n",
            "__________________________________________________________________________________________________\n",
            "activation_22 (Activation)      (None, 512, 512, 16) 0           instance_normalization_11[0][0]  \n",
            "__________________________________________________________________________________________________\n",
            "conv2d_50 (Conv2D)              (None, 512, 512, 16) 4624        up_sampling2d_5[0][0]            \n",
            "__________________________________________________________________________________________________\n",
            "conv2d_49 (Conv2D)              (None, 512, 512, 16) 2320        activation_22[0][0]              \n",
            "__________________________________________________________________________________________________\n",
            "conv2d_51 (Conv2D)              (None, 512, 512, 16) 82960       add[0][0]                        \n",
            "__________________________________________________________________________________________________\n",
            "add_13 (Add)                    (None, 512, 512, 16) 0           conv2d_50[0][0]                  \n",
            "                                                                 conv2d_49[0][0]                  \n",
            "__________________________________________________________________________________________________\n",
            "concatenate_6 (Concatenate)     (None, 512, 512, 32) 0           conv2d_51[0][0]                  \n",
            "                                                                 add_13[0][0]                     \n",
            "__________________________________________________________________________________________________\n",
            "instance_normalization_12 (Inst (None, 512, 512, 32) 64          concatenate_6[0][0]              \n",
            "__________________________________________________________________________________________________\n",
            "activation_23 (Activation)      (None, 512, 512, 32) 0           instance_normalization_12[0][0]  \n",
            "__________________________________________________________________________________________________\n",
            "up_sampling2d_6 (UpSampling2D)  (None, 1024, 1024, 3 0           activation_23[0][0]              \n",
            "__________________________________________________________________________________________________\n",
            "conv2d_52 (Conv2D)              (None, 1024, 1024, 3 867         up_sampling2d_6[0][0]            \n",
            "==================================================================================================\n",
            "Total params: 75,732,131\n",
            "Trainable params: 75,732,131\n",
            "Non-trainable params: 0\n",
            "__________________________________________________________________________________________________\n",
            "None\n"
          ],
          "name": "stdout"
        }
      ]
    },
    {
      "cell_type": "code",
      "metadata": {
        "id": "2Ifx4MDi2bKO"
      },
      "source": [
        ""
      ],
      "execution_count": null,
      "outputs": []
    },
    {
      "cell_type": "code",
      "metadata": {
        "id": "lx8z3IeLX6B3"
      },
      "source": [
        "import inspect\n",
        "# functions\n",
        "def whoami():\n",
        "    return inspect.stack()[1][3]\n",
        "def whosdaddy():\n",
        "    return inspect.stack()[2][3]\n",
        "def foo():\n",
        "    print (\"hello, I'm %s, daddy is %s\" % (whoami(), whosdaddy()))\n",
        "    bar()\n",
        "def bar():\n",
        "    print (\"hello, I'm %s, daddy is %s\" % (whoami(), whosdaddy()))"
      ],
      "execution_count": null,
      "outputs": []
    },
    {
      "cell_type": "code",
      "metadata": {
        "colab": {
          "base_uri": "https://localhost:8080/"
        },
        "id": "eXhOkYboX77i",
        "outputId": "d4e2c636-5bf8-4ef8-9e7e-6fdbd94209a6"
      },
      "source": [
        "johny = bar\n",
        "# call them!\n",
        "foo()\n",
        "bar()\n",
        "johny()"
      ],
      "execution_count": null,
      "outputs": [
        {
          "output_type": "stream",
          "text": [
            "hello, I'm foo, daddy is <module>\n",
            "hello, I'm bar, daddy is foo\n",
            "hello, I'm bar, daddy is <module>\n",
            "hello, I'm bar, daddy is <module>\n"
          ],
          "name": "stdout"
        }
      ]
    },
    {
      "cell_type": "code",
      "metadata": {
        "id": "ySIgKi6AYBgc"
      },
      "source": [
        ""
      ],
      "execution_count": null,
      "outputs": []
    }
  ]
}